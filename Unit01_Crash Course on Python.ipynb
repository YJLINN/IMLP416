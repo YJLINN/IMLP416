{
 "cells": [
  {
   "cell_type": "markdown",
   "metadata": {},
   "source": [
    "# Python programming \n",
    "## Crash Course on Python Coding Practice\n",
    "\n",
    "No matter the level of mastery you hope to get to in Python,<br> \n",
    "you'll need these fundamentals in place before you jump into any project.<br><br>\n",
    "\n",
    "You need to know how to:\n",
    "\n",
    "- declare variables\n",
    "- collect user input\n",
    "- store information\n",
    "- repeat an action through loops\n",
    "- write functions to repeat blocks of code\n"
   ]
  },
  {
   "cell_type": "markdown",
   "metadata": {},
   "source": [
    "### 01 - 奇偶數辨別（Odd or even）\n",
    "#### 當使用者輸入一個的數字，它能夠辨別奇偶，並輸出檢驗結果給使用者。\n",
    "\n",
    "> 題目：輸入一數字判斷奇數或偶數<br>\n",
    "輸入(Input): 一個數字 <br>\n",
    "輸出(Output):奇數或偶數\n",
    "\n",
    "* 進階: 可以限制輸入一個介於一定範圍（例如 1 到 1000）的數字"
   ]
  },
  {
   "cell_type": "code",
   "execution_count": 13,
   "metadata": {},
   "outputs": [
    {
     "name": "stdin",
     "output_type": "stream",
     "text": [
      "請輸入數字: 5\n"
     ]
    },
    {
     "name": "stdout",
     "output_type": "stream",
     "text": [
      "<class 'int'>\n",
      "奇數\n"
     ]
    },
    {
     "name": "stdin",
     "output_type": "stream",
     "text": [
      "請輸入數字: 6\n"
     ]
    },
    {
     "name": "stdout",
     "output_type": "stream",
     "text": [
      "正確範圍\n"
     ]
    }
   ],
   "source": [
    "number=int(input('請輸入數字:'))\n",
    "print(type(number))\n",
    "if number % 2 == 0:\n",
    "    print('偶數')\n",
    "else:\n",
    "    print('奇數')\n",
    "\n",
    "\n",
    "number=int(input('請輸入數字:'))\n",
    "\n",
    "if number>=1 or number<=1000:\n",
    "    print('正確範圍')\n",
    "else:\n",
    "    print('輸入錯誤')"
   ]
  },
  {
   "cell_type": "markdown",
   "metadata": {},
   "source": [
    "### 02 - 填字遊戲（Mad libs game）\n",
    "#### 使用者輸入任何字，它可以是名詞、形容詞、動詞、代名詞等。程式得到文字後，可自行排列，組成成一個模板故事。\n",
    "\n",
    "> 題目：輸入一數字判斷奇數或偶數<br>\n",
    "輸入(Input): 一連串依據說明輸入對應文字 <br>\n",
    "輸出(Output): 模板故事\n",
    "\n",
    "* 進階: 可以讓程式重複執行"
   ]
  },
  {
   "cell_type": "code",
   "execution_count": 14,
   "metadata": {},
   "outputs": [
    {
     "name": "stdin",
     "output_type": "stream",
     "text": [
      "請輸入執行次數: 2\n",
      "請問今天是星期幾:星期 3\n",
      "請輸入您的星座: 雙子\n"
     ]
    },
    {
     "name": "stdout",
     "output_type": "stream",
     "text": [
      "星期3雙子座要特別小心午後雷陣雨，記得帶傘出門\n"
     ]
    },
    {
     "name": "stdin",
     "output_type": "stream",
     "text": [
      "請問今天是星期幾:星期 二\n",
      "請輸入您的星座: 雙魚\n"
     ]
    },
    {
     "name": "stdout",
     "output_type": "stream",
     "text": [
      "星期二雙魚座要特別小心午後雷陣雨，記得帶傘出門\n"
     ]
    }
   ],
   "source": [
    "n = int(input('請輸入執行次數:'))\n",
    "\n",
    "for i in range (n):\n",
    "    dday=input('請問今天是星期幾:星期')\n",
    "    star=input('請輸入您的星座:')\n",
    "    print('星期'+dday+star+'座'+'要特別小心午後雷陣雨，記得帶傘出門')"
   ]
  },
  {
   "cell_type": "markdown",
   "metadata": {},
   "source": [
    "### 03 -  猜數字（Guess the number）\n",
    "#### 請使用者猜一個介於範圍（例如 1 到 100）之間的數字，\n",
    "#### 若使用者猜錯，就詢問他們想繼續玩還是退出；若使用者猜對，就顯示祝賀訊息，\n",
    "#### 並統計使用者的嘗試次數。如果使用者輸入的數字超出設定範圍，就顯示錯誤提示。\n",
    "\n",
    "![](data\\guess.png)\n"
   ]
  },
  {
   "cell_type": "code",
   "execution_count": 16,
   "metadata": {},
   "outputs": [
    {
     "name": "stdout",
     "output_type": "stream",
     "text": [
      "請輸入 0 < ? < 100 範圍的數字:"
     ]
    },
    {
     "name": "stdin",
     "output_type": "stream",
     "text": [
      " 70\n"
     ]
    },
    {
     "name": "stdout",
     "output_type": "stream",
     "text": [
      "再小一點，您猜了1次\n",
      "請輸入 0 < ? < 70 範圍的數字:"
     ]
    },
    {
     "name": "stdin",
     "output_type": "stream",
     "text": [
      " 54\n"
     ]
    },
    {
     "name": "stdout",
     "output_type": "stream",
     "text": [
      "再小一點，您猜了2次\n",
      "請輸入 0 < ? < 54 範圍的數字:"
     ]
    },
    {
     "name": "stdin",
     "output_type": "stream",
     "text": [
      " 30\n"
     ]
    },
    {
     "name": "stdout",
     "output_type": "stream",
     "text": [
      "再小一點，您猜了3次\n",
      "請輸入 0 < ? < 30 範圍的數字:"
     ]
    },
    {
     "name": "stdin",
     "output_type": "stream",
     "text": [
      " 12\n"
     ]
    },
    {
     "name": "stdout",
     "output_type": "stream",
     "text": [
      "再小一點，您猜了4次\n",
      "請輸入 0 < ? < 12 範圍的數字:"
     ]
    },
    {
     "name": "stdin",
     "output_type": "stream",
     "text": [
      " 2\n"
     ]
    },
    {
     "name": "stdout",
     "output_type": "stream",
     "text": [
      "再大一點，您猜了5次\n",
      "請輸入 2 < ? < 12 範圍的數字:"
     ]
    },
    {
     "name": "stdin",
     "output_type": "stream",
     "text": [
      " 6\n"
     ]
    },
    {
     "name": "stdout",
     "output_type": "stream",
     "text": [
      "再大一點，您猜了6次\n",
      "請輸入 6 < ? < 12 範圍的數字:"
     ]
    },
    {
     "name": "stdin",
     "output_type": "stream",
     "text": [
      " 7\n"
     ]
    },
    {
     "name": "stdout",
     "output_type": "stream",
     "text": [
      "再大一點，您猜了7次\n",
      "請輸入 7 < ? < 12 範圍的數字:"
     ]
    },
    {
     "name": "stdin",
     "output_type": "stream",
     "text": [
      " 10\n"
     ]
    },
    {
     "name": "stdout",
     "output_type": "stream",
     "text": [
      "再大一點，您猜了8次\n",
      "請輸入 10 < ? < 12 範圍的數字:"
     ]
    },
    {
     "name": "stdin",
     "output_type": "stream",
     "text": [
      " 11\n"
     ]
    },
    {
     "name": "stdout",
     "output_type": "stream",
     "text": [
      "恭喜答對!\n"
     ]
    }
   ],
   "source": [
    "import random\n",
    "Max = 100\n",
    "Min = 0\n",
    "ans = random.randint(1,99)\n",
    "r=0\n",
    "\n",
    "while True:\n",
    "    print('請輸入',Min,'< ? <',Max,'範圍的數字:',end='')\n",
    "    guess = int(input())\n",
    "    if guess == ans:\n",
    "        print('恭喜答對!')\n",
    "        break\n",
    "    elif guess < ans:\n",
    "        r += 1\n",
    "        Min = guess\n",
    "        print('再大一點，您猜了'+str(r)+'次')\n",
    "    else:\n",
    "        Max = guess\n",
    "        r += 1\n",
    "        print('再小一點，您猜了'+str(r)+'次')"
   ]
  },
  {
   "cell_type": "markdown",
   "metadata": {},
   "source": [
    "### 04 - 計算字數（Word count）\n",
    "#### 使用者輸入一段文字或讀取一檔案，程式統計字數。\n",
    "\n",
    "> 輸入(Input):我要成為寫程式的專家 <br>\n",
    "輸出(Output):你用了 10 個文字述說內心的想法\n",
    "\n",
    "#### 在特定的文章字串中搜尋輸入的特定字，請使用者輸入欲搜尋的文字，印出總共有幾個。<br>\n",
    ">輸入(Input):天<br>\n",
    "輸出(Output): 9\n",
    "\n",
    "* 進階:計算文章中去除標點符號後的字數，找出文章中出現最多的字與次數"
   ]
  },
  {
   "cell_type": "code",
   "execution_count": 17,
   "metadata": {},
   "outputs": [
    {
     "name": "stdin",
     "output_type": "stream",
     "text": [
      "請輸入想說的話: 今天還是好天氣~\n"
     ]
    },
    {
     "name": "stdout",
     "output_type": "stream",
     "text": [
      "你用 8 個字表達心情\n"
     ]
    },
    {
     "name": "stdin",
     "output_type": "stream",
     "text": [
      "請輸入你想計算出現次數的字: 人\n"
     ]
    },
    {
     "name": "stdout",
     "output_type": "stream",
     "text": [
      "人\n",
      "4\n"
     ]
    }
   ],
   "source": [
    "thing=input('請輸入想說的話:')\n",
    "print('你用 %d 個字表達心情'%(len(thing)))\n",
    "\n",
    "print('--------------------------------------------')\n",
    "article='''機器學習是人工智慧的一個分支。人工智慧的研究歷史有著一條從以「推理」為重點，\n",
    "到以「知識」為重點，再到以「學習」為重點的自然、清晰的脈絡。顯然，機器學習是實現人工智慧的一個途徑之一，\n",
    "即以機器學習為手段，解決人工智慧中的部分問題。機器學習在近30多年已發展為一門多領域科際整合，\n",
    "涉及機率論、統計學、逼近論、凸分析、計算複雜性理論等多門學科。'''\n",
    "\n",
    "w=input('請輸入你想計算出現次數的字:')\n",
    "wnum=article.count(w)\n",
    "print(w)\n",
    "print(wnum)\n"
   ]
  },
  {
   "cell_type": "markdown",
   "metadata": {},
   "source": [
    "### 05 - Email 域名判斷器（Email slicer）\n",
    "#### 請用戶輸入 Email 地址，然後判斷它是自定義域名還是熱門域名。\n",
    "\n",
    "> 題目：<br>\n",
    "輸入(Input):shelly200318@hotmail.com.tw  <br>\n",
    "輸出(Output):Your username is 'shelly200318' and your domain name is 'hotmail.com.tw' <br>\n",
    "\n",
    "\n",
    "* 進階：把常用的信箱存成字典，加入判斷是否為\n",
    ">輸入(Input):mary.jane@gmail.com  <br>\n",
    "輸出(Output):這是註冊在 Google 之下的 Email 地址 <br>\n",
    "輸入(Input):matt.pan@myfantasy.com  <br>\n",
    "輸出(Output):這是在 myfantasy 之下自定義域\n",
    "\n"
   ]
  },
  {
   "cell_type": "code",
   "execution_count": 18,
   "metadata": {},
   "outputs": [
    {
     "name": "stdin",
     "output_type": "stream",
     "text": [
      "請輸入您的電子信箱 lightinpool@gmail.com\n"
     ]
    },
    {
     "name": "stdout",
     "output_type": "stream",
     "text": [
      "用戶名是'lightinpool'，域名是'gmail.com'\n",
      "這是註冊在Google之下的電子信箱\n"
     ]
    }
   ],
   "source": [
    "mail = input('請輸入您的電子信箱').strip()\n",
    "username = mail.split('@')[0]\n",
    "domainname = mail.split('@')[1]\n",
    "print(\"用戶名是'{}'，域名是'{}'\".format(username,domainname))\n",
    "domain = {'gmail.com':'Google','yahoo.com.tw':'Yahoo','ntu.edu.tw':'臺大','hotmail.com.tw':'Hotmail','hotmail.com':'Hotmail'}\n",
    "if domainname in domain:\n",
    "    print('這是註冊在{}之下的電子信箱'.format(domain[domainname]))\n",
    "else :\n",
    "    print('這是註冊在{}之下的自定義域'.format(domainname))"
   ]
  },
  {
   "cell_type": "markdown",
   "metadata": {},
   "source": [
    "### 06 - 及格名單（Pass list）\n",
    "#### 請使用集合功能來完成各科級名單的判斷\n",
    "```\n",
    "米花市帝丹小學一年级B班正舉辦期中考試\n",
    "數學及格的有：柯南、灰原、步美、美環、光彦\n",
    "英文及格的有：柯南、灰原、丸尾、野口、步美\n",
    "以上已列出全班所有人\n",
    "```\n",
    "\n",
    ">請分別列出<br>\n",
    "數學及格但英文不及格的同學名單<br>\n",
    "數學不及格但英文及格的同學名單<br>\n",
    "兩者皆及格名單<br>\n",
    "* Hint:差集(減法)、交集\n"
   ]
  },
  {
   "cell_type": "code",
   "execution_count": 4,
   "metadata": {},
   "outputs": [
    {
     "name": "stdout",
     "output_type": "stream",
     "text": [
      "['光彦', '美環']\n",
      "['丸尾', '野口']\n",
      "['柯南', '步美', '灰原']\n"
     ]
    }
   ],
   "source": [
    "mathgood = {'柯南','灰原','步美','美環','光彦'}\n",
    "enggood = {'柯南','灰原','丸尾','野口','步美'}\n",
    "\n",
    "mnote = mathgood.difference(enggood)\n",
    "mnote = list(mnote)\n",
    "mnote.sort()\n",
    "print(mnote)\n",
    "\n",
    "enotm = enggood.difference(mathgood)\n",
    "enotm = list(enotm)\n",
    "enotm.sort()\n",
    "print(enotm)\n",
    "\n",
    "both = mathgood.intersection(enggood)\n",
    "both = list(both)\n",
    "both.sort()\n",
    "print(both)"
   ]
  },
  {
   "cell_type": "markdown",
   "metadata": {},
   "source": [
    "### 07 - 查詢路徑下所有檔案\n",
    "#### 請使用者輸入路徑，自動抓取路徑下所有檔案名稱\n",
    "\n",
    ">輸入(Input):data\\testfile 或 D:\\code\\ML_202105\\data\\testfile  <br>\n",
    "輸出(Output):\n",
    "```\n",
    "I'm a directory: file1\n",
    "I'm a directory: file2\n",
    "I'm a File: hw_07945001.txt\n",
    "I'm a File: hw_079450010.doc\n",
    "I'm a File: hw_07945002.txt\n",
    "I'm a File: hw_07945003.txt\n",
    "I'm a File: hw_07945004.txt\n",
    "I'm a File: hw_07945005.txt\n",
    "I'm a File: hw_07945007.txt\n",
    "I'm a File: hw_07945008.txt\n",
    "I'm a File: hw_07945009.txt\n",
    "```\n",
    "\n",
    "* 進階: 把file的學號抓出來，另存成一個新的csv檔"
   ]
  },
  {
   "cell_type": "code",
   "execution_count": 26,
   "metadata": {},
   "outputs": [
    {
     "name": "stdin",
     "output_type": "stream",
     "text": [
      " C:\\Users\\spationaut\\Desktop\\機器學習\\IMLP416_台大資訓班\\Unit01\\Unit01\\testfile\n"
     ]
    },
    {
     "name": "stdout",
     "output_type": "stream",
     "text": [
      "是資料夾， file1\n",
      "是資料夾， file2\n",
      "是檔案， hw_07945001.txt\n",
      "是檔案， hw_079450010.doc\n",
      "是檔案， hw_07945002.txt\n",
      "是檔案， hw_07945003.txt\n",
      "是檔案， hw_07945004.txt\n",
      "是檔案， hw_07945005.txt\n",
      "是檔案， hw_07945007.txt\n",
      "是檔案， hw_07945008.txt\n",
      "是檔案， hw_07945009.txt\n"
     ]
    }
   ],
   "source": [
    "import os\n",
    "wrpath = input() # 因為電腦沒有 D 槽，所以路徑名是 C 槽\n",
    "filename = os.listdir(wrpath) \n",
    "for file in filename:\n",
    "    if os.path.isdir(os.path.join(wrpath, file)):\n",
    "        print('是資料夾，', file)\n",
    "    else:\n",
    "        print('是檔案，', file)"
   ]
  },
  {
   "cell_type": "markdown",
   "metadata": {},
   "source": [
    "### 08 - 資料夾管理(shutil)\n",
    "#### 說明 ####\n",
    "\n",
    "```\n",
    "在目前所在的目錄下建立一files資料夾\n",
    "\n",
    "令使用者輸入一數字N，並在files資料夾中建立f1, f2… fN等N個資料夾後列出files的資料夾內容\n",
    "\n",
    "將files資料夾裡的f1資料夾重新命名成folder1後再列出files的資料夾內容\n",
    "\n",
    "移除files資料夾中的folder1後再列出files的資料夾內容\n",
    "\n",
    "最後移除files資料夾\n",
    "※須先退出files資料夾(os.chdir(../)) ![image.png](attachment:image.png)\n",
    "```\n"
   ]
  },
  {
   "cell_type": "code",
   "execution_count": 3,
   "metadata": {},
   "outputs": [
    {
     "name": "stdin",
     "output_type": "stream",
     "text": [
      "輸入一個數字: 2\n"
     ]
    },
    {
     "name": "stdout",
     "output_type": "stream",
     "text": [
      "['f1', 'f2']\n"
     ]
    },
    {
     "name": "stdin",
     "output_type": "stream",
     "text": [
      "Enter \n"
     ]
    },
    {
     "name": "stdout",
     "output_type": "stream",
     "text": [
      "['f2', 'folder1']\n"
     ]
    },
    {
     "name": "stdin",
     "output_type": "stream",
     "text": [
      "Enter \n"
     ]
    },
    {
     "name": "stdout",
     "output_type": "stream",
     "text": [
      "['f2']\n"
     ]
    },
    {
     "name": "stdin",
     "output_type": "stream",
     "text": [
      "Enter \n"
     ]
    }
   ],
   "source": [
    "import os\n",
    "import shutil\n",
    "\n",
    "if os.path.exists('files'):\n",
    "    shutil.rmtree('files')\n",
    "os.mkdir('files')\n",
    "\n",
    "n = int(input('輸入一個數字:'))\n",
    "\n",
    "os.chdir('files')\n",
    "for i in range(1,n+1):\n",
    "    os.mkdir('f'+str(i))\n",
    "print(sorted(os.listdir()))\n",
    "a = input('Enter')\n",
    "\n",
    "os.rename('f1','folder1')\n",
    "print(sorted(os.listdir()))\n",
    "a = input('Enter')\n",
    "\n",
    "os.rmdir('folder1')\n",
    "print(sorted(os.listdir()))\n",
    "a = input('Enter')\n",
    "\n",
    "os.chdir('../')\n",
    "shutil.rmtree('files')"
   ]
  },
  {
   "cell_type": "markdown",
   "metadata": {},
   "source": [
    "### 09 - 回文判斷（Is a palindrome）\n",
    "#### 請使用者輸入單字，判斷它是否為回文，也就是該單字前後對稱，例如 madam，從前讀到後或是從後讀到前的順序都是 madam。\n",
    "\n",
    "> 題目：<br>\n",
    "輸入(Input): 雨 滋 春 樹 碧 連 天  天 連 碧 樹 春 滋 雨 <br>\n",
    "輸出(Output):The text you have entered is a palindrome!<br>\n",
    "輸入(Input): 資工訓練班 <br>\n",
    "輸出(Output):The text you have entered is not a palindrome.\n"
   ]
  },
  {
   "cell_type": "code",
   "execution_count": 7,
   "metadata": {},
   "outputs": [
    {
     "name": "stdout",
     "output_type": "stream",
     "text": [
      "\n",
      "Palindrome checker\n"
     ]
    },
    {
     "name": "stdin",
     "output_type": "stream",
     "text": [
      "\n",
      "Please enter a word, phrase, or a sentence \n",
      "to check if it is a palindrome:  端午節\n"
     ]
    },
    {
     "name": "stdout",
     "output_type": "stream",
     "text": [
      "The text you have entered is not a palindrome.\n"
     ]
    }
   ],
   "source": [
    "def convertInputString():\n",
    "    #請使用者輸入一串字串，先轉換字串為統一小寫\n",
    "    rawInput = input(\"\\nPlease enter a word, phrase, or a sentence \\nto check if it is a palindrome: \")\n",
    "    rawString = rawInput.lower()\n",
    "    rawList = list(rawString)\n",
    "    return rawList\n",
    "\n",
    "def stripAnalphabetics(dirtyList): \n",
    "    analphabeticList = [\" \", \"-\", \".\", \",\", \":\", \";\", \"!\", \"?\", \"'\", \"\\\"\"] \n",
    "    #去除相關標點符號\n",
    "    for character in analphabeticList:\n",
    "        if character in dirtyList:\n",
    "            dirtyList.remove(character)\n",
    "            return stripAnalphatics(dirtyList)\n",
    "    return dirtyList\n",
    "\n",
    "def runPalindromeCheck(straightList):\n",
    "    reversedList = straightList[::-1] \n",
    "    if reversedList == straightList: \n",
    "        return \"The text you have entered is a palindrome!\" \n",
    "    else: \n",
    "        return \"The text you have entered is not a palindrome.\" \n",
    "\n",
    "def main(): \n",
    "    print(\"\\nPalindrome checker\")\n",
    "    originalList = convertInputString()\n",
    "    originalList = stripAnalphabetics(originalList)\n",
    "    palindromeCheck = runPalindromeCheck(originalList)\n",
    "    print(palindromeCheck)\n",
    "\n",
    "main() "
   ]
  },
  {
   "cell_type": "markdown",
   "metadata": {},
   "source": [
    "### 10 - 總成績計算\n",
    "#### 說明 ####\n",
    "\n",
    "請讀取 `data/english_list.csv`與`data/math_list.csv`檔案(`utf-8`)後，將每位同學的英文與數學成績加總起來，並將檔案寫入至 `./Score.csv`中，編碼成`utf-8`<br>\n",
    "最後列印出每位學生姓名與加總後的分數<br>\n",
    "<a href=\"data\\english_list.csv\">英文成績下載</a><br>\n",
    "<a href=\"data\\math_list.csv\">數學成績下載</a><br>\n",
    "\n",
    "#### Input Format ####\n",
    "\n",
    "<br>\n",
    "csv資料(英文成績)<br>\n",
    "csv資料(數學成績)<br>\n",
    "<br>\n",
    "\n",
    "#### Output Format ####\n",
    "\n",
    "<br>\n",
    "\n",
    "![](data\\05.JPG)<br>\n",
    "<br>\n",
    "<br>\n",
    "(圖片參考用 以文字敘述為準)<br>\n",
    "\n",
    "\n",
    "\n",
    "\n",
    "#### Sample Input 1####\n",
    "\n",
    "\n",
    "\n",
    "```\n",
    "無標準輸入，只有檔案輸入\n",
    "```\n",
    "\n",
    "\n",
    "\n",
    "#### Sample Output 1####\n",
    "\n",
    "\n",
    "```\n",
    "廖冠霖 142\n",
    "王力中 124\n",
    "張平舜 108\n",
    ".\n",
    ".\n",
    ".\n",
    ".\n",
    ".\n",
    "陳姿茜 77\n",
    "涂珮瑜 134\n",
    "夏明哲 111\n",
    "\n",
    "```\n",
    "\n",
    "\n",
    "#### Hint ####\n",
    "\n",
    "\n",
    "\n",
    "```\n",
    "None\n",
    "```\n"
   ]
  },
  {
   "cell_type": "code",
   "execution_count": 10,
   "metadata": {},
   "outputs": [
    {
     "name": "stdout",
     "output_type": "stream",
     "text": [
      "﻿姓名,英文\n",
      "['\\ufeff姓名', '英文']\n",
      "廖冠霖,76\n",
      "['廖冠霖', '76']\n",
      "王力中,51\n",
      "['王力中', '51']\n",
      "張平舜,93\n",
      "['張平舜', '93']\n",
      "洪婷婷,46\n",
      "['洪婷婷', '46']\n",
      "林士雨,7\n",
      "['林士雨', '7']\n",
      "陳宗翰,13\n",
      "['陳宗翰', '13']\n",
      "洪偉珊,81\n",
      "['洪偉珊', '81']\n",
      "顏又芹,27\n",
      "['顏又芹', '27']\n",
      "王亦夏,18\n",
      "['王亦夏', '18']\n",
      "姚成華,39\n",
      "['姚成華', '39']\n",
      "潘詠月,58\n",
      "['潘詠月', '58']\n",
      "倪浩迪,74\n",
      "['倪浩迪', '74']\n",
      "郭心怡,86\n",
      "['郭心怡', '86']\n",
      "黃政聖,75\n",
      "['黃政聖', '75']\n",
      "顏曉雲,94\n",
      "['顏曉雲', '94']\n",
      "彭曉雯,30\n",
      "['彭曉雯', '30']\n",
      "葉健仁,70\n",
      "['葉健仁', '70']\n",
      "賴軒年,97\n",
      "['賴軒年', '97']\n",
      "韓致遠,3\n",
      "['韓致遠', '3']\n",
      "陳常芝,22\n",
      "['陳常芝', '22']\n",
      "黃佩樺,34\n",
      "['黃佩樺', '34']\n",
      "林詩虹,92\n",
      "['林詩虹', '92']\n",
      "黃心卿,21\n",
      "['黃心卿', '21']\n",
      "郭奕全,7\n",
      "['郭奕全', '7']\n",
      "游子揚,97\n",
      "['游子揚', '97']\n",
      "杜茜行,37\n",
      "['杜茜行', '37']\n",
      "李美一,42\n",
      "['李美一', '42']\n",
      "陳姿茜,43\n",
      "['陳姿茜', '43']\n",
      "涂珮瑜,42\n",
      "['涂珮瑜', '42']\n",
      "夏明哲,90\n",
      "['夏明哲', '90']\n",
      "﻿姓名,數學\n",
      "['\\ufeff姓名', '數學']\n",
      "廖冠霖,66\n",
      "['廖冠霖', '66']\n",
      "王力中,73\n",
      "['王力中', '73']\n",
      "張平舜,15\n",
      "['張平舜', '15']\n",
      "洪婷婷,82\n",
      "['洪婷婷', '82']\n",
      "林士雨,79\n",
      "['林士雨', '79']\n",
      "陳宗翰,15\n",
      "['陳宗翰', '15']\n",
      "洪偉珊,53\n",
      "['洪偉珊', '53']\n",
      "顏又芹,5\n",
      "['顏又芹', '5']\n",
      "王亦夏,37\n",
      "['王亦夏', '37']\n",
      "姚成華,38\n",
      "['姚成華', '38']\n",
      "潘詠月,86\n",
      "['潘詠月', '86']\n",
      "倪浩迪,89\n",
      "['倪浩迪', '89']\n",
      "郭心怡,23\n",
      "['郭心怡', '23']\n",
      "黃政聖,24\n",
      "['黃政聖', '24']\n",
      "顏曉雲,41\n",
      "['顏曉雲', '41']\n",
      "彭曉雯,47\n",
      "['彭曉雯', '47']\n",
      "葉健仁,47\n",
      "['葉健仁', '47']\n",
      "賴軒年,70\n",
      "['賴軒年', '70']\n",
      "韓致遠,49\n",
      "['韓致遠', '49']\n",
      "陳常芝,58\n",
      "['陳常芝', '58']\n",
      "黃佩樺,74\n",
      "['黃佩樺', '74']\n",
      "林詩虹,86\n",
      "['林詩虹', '86']\n",
      "黃心卿,75\n",
      "['黃心卿', '75']\n",
      "郭奕全,94\n",
      "['郭奕全', '94']\n",
      "游子揚,30\n",
      "['游子揚', '30']\n",
      "杜茜行,70\n",
      "['杜茜行', '70']\n",
      "李美一,22\n",
      "['李美一', '22']\n",
      "陳姿茜,34\n",
      "['陳姿茜', '34']\n",
      "涂珮瑜,92\n",
      "['涂珮瑜', '92']\n",
      "夏明哲,21\n",
      "['夏明哲', '21']\n",
      "廖冠霖 142\n",
      "王力中 124\n",
      "張平舜 108\n",
      "洪婷婷 128\n",
      "林士雨 86\n",
      "陳宗翰 28\n",
      "洪偉珊 134\n",
      "顏又芹 32\n",
      "王亦夏 55\n",
      "姚成華 77\n",
      "潘詠月 144\n",
      "倪浩迪 163\n",
      "郭心怡 109\n",
      "黃政聖 99\n",
      "顏曉雲 135\n",
      "彭曉雯 77\n",
      "葉健仁 117\n",
      "賴軒年 167\n",
      "韓致遠 52\n",
      "陳常芝 80\n",
      "黃佩樺 108\n",
      "林詩虹 178\n",
      "黃心卿 96\n",
      "郭奕全 101\n",
      "游子揚 127\n",
      "杜茜行 107\n",
      "李美一 64\n",
      "陳姿茜 77\n",
      "涂珮瑜 134\n",
      "夏明哲 111\n"
     ]
    },
    {
     "data": {
      "text/plain": [
       "'\\nline=\\'\\'\\nfout = open(\"Score.csv\",\"r\")\\nfor i in (len(name)):\\n    print()\\n'"
      ]
     },
     "execution_count": 10,
     "metadata": {},
     "output_type": "execute_result"
    }
   ],
   "source": [
    "fin_E = open('data/english_list.csv',\"r\",encoding='UTF-8')\n",
    "fin_M = open('data/math_list.csv',\"r\",encoding='UTF-8')\n",
    "lisE=[]\n",
    "lisM=[]\n",
    "name=[]\n",
    "for line in fin_E.readlines():\n",
    "    print(line, end = '')\n",
    "    line = line.strip().split(\",\")\n",
    "    print(line)\n",
    "    name.append(line[0])\n",
    "    lisE.append(line[1])\n",
    "    \n",
    "for line in fin_M.readlines():\n",
    "    print(line, end = '')\n",
    "    line = line.strip().split(\",\")\n",
    "    print(line)\n",
    "    lisM.append(line[1])\n",
    "    \n",
    "score=[]\n",
    "fout = open(\"Score.csv\",\"w\")\n",
    "line=''\n",
    "for i in range(1,len(name)):\n",
    "    score.append(int(lisE[i])+int(lisM[i]))\n",
    "    list1 = [name[i],str(score[i-1]),\"\\n\"]\n",
    "    print(name[i],str(score[i-1]))\n",
    "    \n",
    "    line = \",\".join(list1)\n",
    "    fout.write(line)\n",
    "fin_E.close()\n",
    "fin_M.close()\n",
    "fout.close()\n",
    "'''\n",
    "line=''\n",
    "fout = open(\"Score.csv\",\"r\")\n",
    "for i in (len(name)):\n",
    "    print()\n",
    "'''\n"
   ]
  },
  {
   "cell_type": "code",
   "execution_count": null,
   "metadata": {},
   "outputs": [],
   "source": []
  }
 ],
 "metadata": {
  "kernelspec": {
   "display_name": "Python 3 (ipykernel)",
   "language": "python",
   "name": "python3"
  },
  "language_info": {
   "codemirror_mode": {
    "name": "ipython",
    "version": 3
   },
   "file_extension": ".py",
   "mimetype": "text/x-python",
   "name": "python",
   "nbconvert_exporter": "python",
   "pygments_lexer": "ipython3",
   "version": "3.11.7"
  }
 },
 "nbformat": 4,
 "nbformat_minor": 4
}
